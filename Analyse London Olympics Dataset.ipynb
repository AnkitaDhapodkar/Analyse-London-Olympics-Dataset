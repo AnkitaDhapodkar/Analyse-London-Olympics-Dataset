{
 "cells": [
  {
   "cell_type": "markdown",
   "metadata": {},
   "source": [
    "# Import required libraries"
   ]
  },
  {
   "cell_type": "code",
   "execution_count": 1,
   "metadata": {},
   "outputs": [],
   "source": [
    "import numpy as np\n",
    "import pandas as pd"
   ]
  },
  {
   "cell_type": "code",
   "execution_count": 16,
   "metadata": {},
   "outputs": [],
   "source": [
    "np_olympic_country = np.array(['Great Britain','China','Russia','United States',\n",
    "                               'Korea','Japan','Germany'])\n",
    "np_olympic_country_gold = np.array([29,38,24,46,13,7,11])\n",
    "np_olympic_country_silver = np.array([17,28,25,28,8,14,11])\n",
    "np_olympic_country_bronze = np.array([19,22,32,29,7,17,14])"
   ]
  },
  {
   "cell_type": "markdown",
   "metadata": {},
   "source": [
    "# Country with max gold"
   ]
  },
  {
   "cell_type": "code",
   "execution_count": 5,
   "metadata": {},
   "outputs": [],
   "source": [
    "max_gold_index = np_olympic_country_gold.argmax()"
   ]
  },
  {
   "cell_type": "code",
   "execution_count": 6,
   "metadata": {},
   "outputs": [],
   "source": [
    "country_with_max_gold = np_olympic_country[max_gold_index]"
   ]
  },
  {
   "cell_type": "code",
   "execution_count": 7,
   "metadata": {},
   "outputs": [
    {
     "name": "stdout",
     "output_type": "stream",
     "text": [
      "United States\n"
     ]
    }
   ],
   "source": [
    "print(country_with_max_gold)"
   ]
  },
  {
   "cell_type": "markdown",
   "metadata": {},
   "source": [
    "# Countries with won more than 20 gold medals"
   ]
  },
  {
   "cell_type": "code",
   "execution_count": 8,
   "metadata": {},
   "outputs": [
    {
     "name": "stdout",
     "output_type": "stream",
     "text": [
      "['Great Britain' 'China' 'Russia' 'United States']\n"
     ]
    }
   ],
   "source": [
    "print(np_olympic_country[np_olympic_country_gold>20])"
   ]
  },
  {
   "cell_type": "markdown",
   "metadata": {},
   "source": [
    "# Medal Tally"
   ]
  },
  {
   "cell_type": "code",
   "execution_count": 9,
   "metadata": {},
   "outputs": [],
   "source": [
    "medal_tally = np.array(['gold', 'silver', 'bronze'])"
   ]
  },
  {
   "cell_type": "code",
   "execution_count": 10,
   "metadata": {},
   "outputs": [
    {
     "name": "stdout",
     "output_type": "stream",
     "text": [
      "['gold' 'silver' 'bronze']\n"
     ]
    }
   ],
   "source": [
    "print(medal_tally)"
   ]
  },
  {
   "cell_type": "markdown",
   "metadata": {},
   "source": [
    "# Print each country name with the corresponding number of gold medals and total number of medals won"
   ]
  },
  {
   "cell_type": "code",
   "execution_count": 15,
   "metadata": {},
   "outputs": [
    {
     "name": "stdout",
     "output_type": "stream",
     "text": [
      "Great Britain, gold medal 29, total medals 65\n",
      "China, gold medal 38, total medals 88\n",
      "Russia, gold medal 24, total medals 81\n",
      "United States, gold medal 46, total medals 103\n",
      "Korea, gold medal 13, total medals 28\n",
      "Japan, gold medal 7, total medals 38\n",
      "Germany, gold medal 11, total medals 36\n"
     ]
    }
   ],
   "source": [
    "for i in range(len(np_olympic_country)):\n",
    " gold_medal = np_olympic_country_gold[i]\n",
    " country = np_olympic_country[i]\n",
    " total_medal = np_olympic_country_bronze[i] + np_olympic_country_gold[i] + np_olympic_country_silver[i]\n",
    " print('{}, gold medal {}, total medals {}'.format(country, gold_medal, total_medal))"
   ]
  },
  {
   "cell_type": "code",
   "execution_count": null,
   "metadata": {},
   "outputs": [],
   "source": []
  }
 ],
 "metadata": {
  "kernelspec": {
   "display_name": "Python 3",
   "language": "python",
   "name": "python3"
  },
  "language_info": {
   "codemirror_mode": {
    "name": "ipython",
    "version": 3
   },
   "file_extension": ".py",
   "mimetype": "text/x-python",
   "name": "python",
   "nbconvert_exporter": "python",
   "pygments_lexer": "ipython3",
   "version": "3.7.6"
  }
 },
 "nbformat": 4,
 "nbformat_minor": 4
}
